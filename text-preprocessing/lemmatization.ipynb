{
 "cells": [
  {
   "cell_type": "markdown",
   "metadata": {},
   "source": [
    "### Lemmatization\n",
    "\n",
    "#### WordNetLemmatizer Class"
   ]
  },
  {
   "cell_type": "code",
   "execution_count": 2,
   "metadata": {},
   "outputs": [
    {
     "name": "stdout",
     "output_type": "stream",
     "text": [
      "eating ==> eating\n",
      "eats ==> eats\n",
      "eaten ==> eaten\n",
      "writing ==> writing\n",
      "writes ==> writes\n",
      "programming ==> programming\n",
      "programs ==> program\n",
      "history ==> history\n",
      "finally ==> finally\n",
      "finalize ==> finalize\n"
     ]
    }
   ],
   "source": [
    "from nltk.stem import WordNetLemmatizer\n",
    "lemmatizer = WordNetLemmatizer()\n",
    "\n",
    "words=['eating', 'eats', 'eaten', 'writing', 'writes', 'programming', 'programs', 'history', 'finally', 'finalize']\n",
    "\n",
    "for word in words:\n",
    "  print(f\"{word} ==> {lemmatizer.lemmatize(word)}\")"
   ]
  },
  {
   "cell_type": "code",
   "execution_count": 4,
   "metadata": {},
   "outputs": [
    {
     "data": {
      "text/plain": [
       "'\\nParts of Speech...pos\\nnoun = n, \\nverb = v,\\nadjective = a\\nadverb = r\\n'"
      ]
     },
     "execution_count": 4,
     "metadata": {},
     "output_type": "execute_result"
    }
   ],
   "source": [
    "'''\n",
    "Parts of Speech...pos\n",
    "noun = n, \n",
    "verb = v,\n",
    "adjective = a\n",
    "adverb = r\n",
    "'''"
   ]
  },
  {
   "cell_type": "code",
   "execution_count": 5,
   "metadata": {},
   "outputs": [
    {
     "name": "stdout",
     "output_type": "stream",
     "text": [
      "eating ==> eat\n",
      "eats ==> eat\n",
      "eaten ==> eat\n",
      "writing ==> write\n",
      "writes ==> write\n",
      "programming ==> program\n",
      "programs ==> program\n",
      "history ==> history\n",
      "finally ==> finally\n",
      "finalize ==> finalize\n"
     ]
    }
   ],
   "source": [
    "for word in words:\n",
    "  print(f\"{word} ==> {lemmatizer.lemmatize(word, pos='v')}\")"
   ]
  },
  {
   "cell_type": "code",
   "execution_count": 8,
   "metadata": {},
   "outputs": [
    {
     "name": "stdout",
     "output_type": "stream",
     "text": [
      "going\n",
      "go\n",
      "going\n"
     ]
    }
   ],
   "source": [
    "print(lemmatizer.lemmatize('going', 'a'))\n",
    "print(lemmatizer.lemmatize('going', 'v'))\n",
    "print(lemmatizer.lemmatize('going', 'r'))"
   ]
  },
  {
   "cell_type": "code",
   "execution_count": 11,
   "metadata": {},
   "outputs": [
    {
     "name": "stdout",
     "output_type": "stream",
     "text": [
      "fairly sportingly\n"
     ]
    }
   ],
   "source": [
    "print(lemmatizer.lemmatize('fairly', pos='a'), lemmatizer.lemmatize('sportingly', pos='r'))"
   ]
  },
  {
   "cell_type": "code",
   "execution_count": null,
   "metadata": {},
   "outputs": [],
   "source": []
  }
 ],
 "metadata": {
  "kernelspec": {
   "display_name": "Python 3",
   "language": "python",
   "name": "python3"
  },
  "language_info": {
   "codemirror_mode": {
    "name": "ipython",
    "version": 3
   },
   "file_extension": ".py",
   "mimetype": "text/x-python",
   "name": "python",
   "nbconvert_exporter": "python",
   "pygments_lexer": "ipython3",
   "version": "3.12.0"
  }
 },
 "nbformat": 4,
 "nbformat_minor": 2
}
