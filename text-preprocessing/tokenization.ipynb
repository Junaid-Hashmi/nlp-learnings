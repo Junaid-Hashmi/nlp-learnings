{
 "cells": [
  {
   "cell_type": "code",
   "execution_count": 1,
   "metadata": {},
   "outputs": [
    {
     "name": "stdout",
     "output_type": "stream",
     "text": [
      "Requirement already satisfied: nltk in c:\\users\\junaid\\desktop\\genai-udemy\\venv\\lib\\site-packages (3.9.1)\n",
      "Requirement already satisfied: click in c:\\users\\junaid\\desktop\\genai-udemy\\venv\\lib\\site-packages (from nltk) (8.1.8)\n",
      "Requirement already satisfied: joblib in c:\\users\\junaid\\desktop\\genai-udemy\\venv\\lib\\site-packages (from nltk) (1.4.2)\n",
      "Requirement already satisfied: regex>=2021.8.3 in c:\\users\\junaid\\desktop\\genai-udemy\\venv\\lib\\site-packages (from nltk) (2024.11.6)\n",
      "Requirement already satisfied: tqdm in c:\\users\\junaid\\desktop\\genai-udemy\\venv\\lib\\site-packages (from nltk) (4.67.1)\n",
      "Requirement already satisfied: colorama in c:\\users\\junaid\\desktop\\genai-udemy\\venv\\lib\\site-packages (from click->nltk) (0.4.6)\n",
      "Note: you may need to restart the kernel to use updated packages.\n"
     ]
    }
   ],
   "source": [
    "%pip install nltk"
   ]
  },
  {
   "cell_type": "code",
   "execution_count": 4,
   "metadata": {},
   "outputs": [
    {
     "name": "stdout",
     "output_type": "stream",
     "text": [
      "\n",
      "Hello, Welcome to basics of NLP Tutorials. I am Junaid! \n",
      "Looking forward to learn a lot of stuff.\n",
      "\n"
     ]
    }
   ],
   "source": [
    "corpus = \"\"\"\n",
    "Hello, Welcome to basics of NLP Tutorials. I am Junaid! \n",
    "Looking forward to learn a lot of stuff.\n",
    "\"\"\"\n",
    "print(corpus)"
   ]
  },
  {
   "cell_type": "code",
   "execution_count": 9,
   "metadata": {},
   "outputs": [
    {
     "name": "stdout",
     "output_type": "stream",
     "text": [
      "<class 'list'>\n",
      "['\\nHello, Welcome to basics of NLP Tutorials.', 'I am Junaid!', 'Looking forward to learn a lot of stuff.']\n",
      "3\n"
     ]
    }
   ],
   "source": [
    "# Tokenization\n",
    "## Paragraph -> Sentence \n",
    "from nltk.tokenize import sent_tokenize\n",
    "\n",
    "documents = sent_tokenize(corpus)\n",
    "print(type(documents))\n",
    "print(documents)\n",
    "print(len(documents))"
   ]
  },
  {
   "cell_type": "code",
   "execution_count": 10,
   "metadata": {},
   "outputs": [
    {
     "data": {
      "text/plain": [
       "['Hello',\n",
       " ',',\n",
       " 'Welcome',\n",
       " 'to',\n",
       " 'basics',\n",
       " 'of',\n",
       " 'NLP',\n",
       " 'Tutorials',\n",
       " '.',\n",
       " 'I',\n",
       " 'am',\n",
       " 'Junaid',\n",
       " '!',\n",
       " 'Looking',\n",
       " 'forward',\n",
       " 'to',\n",
       " 'learn',\n",
       " 'a',\n",
       " 'lot',\n",
       " 'of',\n",
       " 'stuff',\n",
       " '.']"
      ]
     },
     "execution_count": 10,
     "metadata": {},
     "output_type": "execute_result"
    }
   ],
   "source": [
    "# Tokenization 2\n",
    "## Paragraph -> words & Sentence -> words\n",
    "\n",
    "from nltk.tokenize import word_tokenize\n",
    "\n",
    "word_tokenize(corpus)"
   ]
  },
  {
   "cell_type": "code",
   "execution_count": 11,
   "metadata": {},
   "outputs": [
    {
     "name": "stdout",
     "output_type": "stream",
     "text": [
      "['Hello', ',', 'Welcome', 'to', 'basics', 'of', 'NLP', 'Tutorials', '.']\n",
      "['I', 'am', 'Junaid', '!']\n",
      "['Looking', 'forward', 'to', 'learn', 'a', 'lot', 'of', 'stuff', '.']\n"
     ]
    }
   ],
   "source": [
    "for sentence in documents :\n",
    "  print(word_tokenize(sentence))"
   ]
  },
  {
   "cell_type": "code",
   "execution_count": 12,
   "metadata": {},
   "outputs": [
    {
     "data": {
      "text/plain": [
       "['Hello',\n",
       " ',',\n",
       " 'Welcome',\n",
       " 'to',\n",
       " 'basics',\n",
       " 'of',\n",
       " 'NLP',\n",
       " 'Tutorials',\n",
       " '.',\n",
       " 'I',\n",
       " 'am',\n",
       " 'Junaid',\n",
       " '!',\n",
       " 'Looking',\n",
       " 'forward',\n",
       " 'to',\n",
       " 'learn',\n",
       " 'a',\n",
       " 'lot',\n",
       " 'of',\n",
       " 'stuff',\n",
       " '.']"
      ]
     },
     "execution_count": 12,
     "metadata": {},
     "output_type": "execute_result"
    }
   ],
   "source": [
    "# to make sure the punctuations also get treated as separate word.\n",
    "from nltk.tokenize import wordpunct_tokenize\n",
    "wordpunct_tokenize(corpus)"
   ]
  },
  {
   "cell_type": "code",
   "execution_count": 14,
   "metadata": {},
   "outputs": [
    {
     "data": {
      "text/plain": [
       "['Hello',\n",
       " ',',\n",
       " 'Welcome',\n",
       " 'to',\n",
       " 'basics',\n",
       " 'of',\n",
       " 'NLP',\n",
       " 'Tutorials.',\n",
       " 'I',\n",
       " 'am',\n",
       " 'Junaid',\n",
       " '!',\n",
       " 'Looking',\n",
       " 'forward',\n",
       " 'to',\n",
       " 'learn',\n",
       " 'a',\n",
       " 'lot',\n",
       " 'of',\n",
       " 'stuff',\n",
       " '.']"
      ]
     },
     "execution_count": 14,
     "metadata": {},
     "output_type": "execute_result"
    }
   ],
   "source": [
    "### TreebankWordTokenizer\n",
    "from nltk.tokenize import TreebankWordTokenizer\n",
    "\n",
    "treebankWord_tokenizer = TreebankWordTokenizer()\n",
    "\n",
    "treebankWord_tokenizer.tokenize(corpus)\n",
    "\n",
    "# makes sure full-stop is not treated as separate word, except for the last one."
   ]
  },
  {
   "cell_type": "code",
   "execution_count": null,
   "metadata": {},
   "outputs": [],
   "source": []
  }
 ],
 "metadata": {
  "kernelspec": {
   "display_name": "Python 3",
   "language": "python",
   "name": "python3"
  },
  "language_info": {
   "codemirror_mode": {
    "name": "ipython",
    "version": 3
   },
   "file_extension": ".py",
   "mimetype": "text/x-python",
   "name": "python",
   "nbconvert_exporter": "python",
   "pygments_lexer": "ipython3",
   "version": "3.12.0"
  }
 },
 "nbformat": 4,
 "nbformat_minor": 2
}
